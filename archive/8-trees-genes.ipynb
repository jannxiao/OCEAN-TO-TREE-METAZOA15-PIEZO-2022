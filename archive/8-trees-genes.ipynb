{
 "cells": [
  {
   "cell_type": "code",
   "execution_count": null,
   "id": "2e9b19a8",
   "metadata": {},
   "outputs": [],
   "source": [
    "import os\n",
    "os.chdir('/scratch2/jhsiao/projects/notebooks/book-top-directory/metazoa16-mapped-repaired/8-trees-genes')"
   ]
  },
  {
   "cell_type": "code",
   "execution_count": null,
   "id": "3ca21868",
   "metadata": {},
   "outputs": [],
   "source": [
    "%%bash\n",
    "#000-setup\n",
    "\n",
    "mkdir output || echo \"\"\n"
   ]
  },
  {
   "cell_type": "code",
   "execution_count": null,
   "id": "eb388cba",
   "metadata": {},
   "outputs": [],
   "source": [
    "%%bash\n",
    "#001-sed-dashes-for-mafft\n",
    "\n",
    "\n",
    "sed -e 's/-/_/g' ../6-homologs-genes/output/23-AGS_blastp-rgs5-piezo_X_metazoa16_basal_animals_REPAIRED.aa > output/1-AGS-rgs5-piezo_X_metazoa16_basal_animals_REPAIRED.aa\n"
   ]
  },
  {
   "cell_type": "code",
   "execution_count": null,
   "id": "3fb0ce9a",
   "metadata": {},
   "outputs": [],
   "source": [
    "%%bash\n",
    "#002-sed-U\n",
    "\n",
    "\n",
    "sed -e 's/U/X/g' output/1-AGS-rgs5-piezo_X_metazoa16_basal_animals_REPAIRED.aa  > output/2-AGS-rgs5-piezo_X_metazoa16_basal_animals_REPAIRED.aa\n"
   ]
  },
  {
   "cell_type": "code",
   "execution_count": null,
   "id": "61429431",
   "metadata": {},
   "outputs": [],
   "source": [
    "%%bash\n",
    "#003-mafft-pore-sequence\n",
    "\n",
    "mafft --originalseqonly --maxiterate 1000 --reorder  --bl 45 --thread 40 output/2-AGS-rgs5-piezo_X_metazoa16_basal_animals_REPAIRED.aa > output/3-AGS-rgs5-piezo_X_metazoa16_basal_animals_REPAIRED.mafft\n",
    "\n"
   ]
  },
  {
   "cell_type": "code",
   "execution_count": null,
   "id": "87b25953",
   "metadata": {},
   "outputs": [],
   "source": [
    "%%bash\n",
    "#004-clipkit-smartgap-pore-sequence\n",
    "\n",
    "\n",
    "clipkit -l -m smart-gap output/3-AGS-rgs5-piezo_X_metazoa16_basal_animals_REPAIRED.mafft -o output/4-AGS-rgs5-piezo_X_metazoa16_basal_animals_REPAIRED.clipkit-smartgap\n",
    "\n"
   ]
  },
  {
   "cell_type": "code",
   "execution_count": null,
   "id": "2c266eac",
   "metadata": {},
   "outputs": [],
   "source": [
    "%%bash\n",
    "#005-iqtree2\n",
    "\n",
    "\n",
    "iqtree -s output/4-AGS-rgs5-piezo_X_metazoa16_basal_animals_REPAIRED.clipkit-smartgap -m MFP --prefix output/5-AGS-rgs5-piezo_X_metazoa16_basal_animals_REPAIRED --rate -B 2000 -alrt 2000 -T AUTO -bnni -safe\n"
   ]
  }
 ],
 "metadata": {
  "kernelspec": {
   "display_name": "Python 3 (ipykernel)",
   "language": "python",
   "name": "python3"
  },
  "language_info": {
   "codemirror_mode": {
    "name": "ipython",
    "version": 3
   },
   "file_extension": ".py",
   "mimetype": "text/x-python",
   "name": "python",
   "nbconvert_exporter": "python",
   "pygments_lexer": "ipython3",
   "version": "3.8.3"
  }
 },
 "nbformat": 4,
 "nbformat_minor": 5
}
