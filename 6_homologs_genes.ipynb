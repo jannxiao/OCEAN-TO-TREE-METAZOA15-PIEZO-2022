{
  "cells": [
    {
      "cell_type": "markdown",
      "source": [
        "# Imports, Installs, and Set Up"
      ],
      "metadata": {
        "id": "yWfzZbPg2eJz"
      },
      "id": "yWfzZbPg2eJz"
    },
    {
      "cell_type": "code",
      "source": [
        "%%bash\n",
        "### No Need to Modify ###\n",
        "pip install gdown --upgrade --no-cache-dir --quiet &&\n",
        "gdown --id 11S8ROPmgjhIakLOcBhz-SJ2q0-d3wTrV &&\n",
        "tar -xf 6-homologs-genes.tar.gz\n"
      ],
      "metadata": {
        "id": "4SqKTRRHNR9H"
      },
      "id": "4SqKTRRHNR9H",
      "execution_count": null,
      "outputs": []
    },
    {
      "cell_type": "code",
      "source": [
        "import os\n",
        "os.chdir('6-homologs-genes')"
      ],
      "metadata": {
        "id": "POK-4cEVNh8h"
      },
      "id": "POK-4cEVNh8h",
      "execution_count": null,
      "outputs": []
    },
    {
      "cell_type": "code",
      "source": [
        "%env PYTHONPATH="
      ],
      "metadata": {
        "id": "0ZGKoEaZduWN"
      },
      "id": "0ZGKoEaZduWN",
      "execution_count": null,
      "outputs": []
    },
    {
      "cell_type": "code",
      "source": [
        "%%bash\n",
        "### No Need to Modify ###\n",
        "MINICONDA_INSTALLER_SCRIPT=Miniconda3-latest-Linux-x86_64.sh\n",
        "MINICONDA_PREFIX=/usr/local\n",
        "wget https://repo.continuum.io/miniconda/$MINICONDA_INSTALLER_SCRIPT --quiet\n",
        "chmod +x $MINICONDA_INSTALLER_SCRIPT\n",
        "./$MINICONDA_INSTALLER_SCRIPT -b -f -p $MINICONDA_PREFIX"
      ],
      "metadata": {
        "id": "0g0Li8lQcjBR"
      },
      "id": "0g0Li8lQcjBR",
      "execution_count": null,
      "outputs": []
    },
    {
      "cell_type": "code",
      "source": [
        "%%bash\n",
        "### No Need to Modify ###\n",
        "conda install -y -q -c bioconda mafft=7.487"
      ],
      "metadata": {
        "id": "keWN4xErWNrj"
      },
      "id": "keWN4xErWNrj",
      "execution_count": null,
      "outputs": []
    },
    {
      "cell_type": "code",
      "source": [
        "%%bash\n",
        "### No Need to Modify ###\n",
        "conda install -y -q -c bioconda blast"
      ],
      "metadata": {
        "id": "0TM-gh80Pcik"
      },
      "id": "0TM-gh80Pcik",
      "execution_count": null,
      "outputs": []
    },
    {
      "cell_type": "code",
      "source": [
        "%%bash\n",
        "### No Need to Modify ###\n",
        "conda install -y -q -c bioconda  clipkit"
      ],
      "metadata": {
        "id": "mKhNNSU0WiDp"
      },
      "id": "mKhNNSU0WiDp",
      "execution_count": null,
      "outputs": []
    },
    {
      "cell_type": "code",
      "source": [
        "%%bash\n",
        "### No Need to Modify ###\n",
        "conda install -y -q -c bioconda iqtree"
      ],
      "metadata": {
        "id": "wm5j5JJWZn0-"
      },
      "id": "wm5j5JJWZn0-",
      "execution_count": null,
      "outputs": []
    },
    {
      "cell_type": "markdown",
      "source": [
        "# Run Pipeline"
      ],
      "metadata": {
        "id": "0UKMdQ8H5txJ"
      },
      "id": "0UKMdQ8H5txJ"
    },
    {
      "cell_type": "code",
      "execution_count": null,
      "id": "f1cabedc",
      "metadata": {
        "id": "f1cabedc"
      },
      "outputs": [],
      "source": [
        "#000-group-basal-metazoans\n",
        "\n",
        "# Nematostella vectensis\n",
        "# Morbakka virulenta\n",
        "# Hydra vulgaris\n",
        "# Thelohanellus kitauei\n",
        "# Rhopilema esculentum\n",
        "# Hormiphora californensis\n",
        "# Mnemiopsis leidyi\n",
        "# Trichoplax adhaerens\n",
        "# Ephydatia muelleri\n",
        "# Amphimedon queenslandica\n",
        "# Monosiga brevicollis\n",
        "# Capsaspora owczarzaki\n",
        "# Sphaeroforma arctica\n",
        "# Homo sapiens\n",
        "# Drosophila melanogaster\n",
        "# Caenorhabditis elegans\n"
      ]
    },
    {
      "cell_type": "code",
      "execution_count": null,
      "id": "a27773be",
      "metadata": {
        "id": "a27773be"
      },
      "outputs": [],
      "source": [
        "%%bash\n",
        "#001-ls-blastdbs\n",
        "\n",
        "mkdir output || echo \"\"\n",
        "echo\n",
        "ls -1 4-projectdb-projectdb/projectdb-fastas-provided/*aa > output/1-list-projectdb-blastdbs\n",
        "ls -1 source-rgs/rgs5-piezo-full_length-03dec2021.fasta > output/1-list-rgs\n"
      ]
    },
    {
      "cell_type": "code",
      "execution_count": null,
      "id": "5626c364",
      "metadata": {
        "id": "5626c364"
      },
      "outputs": [],
      "source": [
        "#002-python-command-blastp\n",
        "\n",
        "# input_list\n",
        "# localdb/projectdb-Metazoa-Nematoda-Chromadorea-Rhabditida-Onchocercidae-Brugia-malayi-6279-Bmal-4.0.fasta\n",
        "\n",
        "input_list = open( 'output/1-list-projectdb-blastdbs', 'r' )\n",
        "input_rgs = open( 'output/1-list-rgs', 'r' )\n",
        "output_command = open( '003-blastp_X_projectDB', 'w' )\n",
        "\n",
        "for next_rgs in input_rgs:\n",
        "\n",
        "    rgs_fasta = next_rgs[ :-1 ] # ends up assigning to pore region in this case\n",
        "\n",
        "for next_line in input_list:\n",
        "\n",
        "    db_path = next_line[ :-1 ]\n",
        "    info = next_line[ :-1 ].split( '-' )\n",
        "    genus = info[ 10 ]\n",
        "    species = info[ 11 ]\n",
        "    gspp = genus + '-' + species\n",
        "    \n",
        "    output = 'blastp -db ' + db_path  + ' -outfmt 6 -out output/3-blast-report-rgs_X_projectdb-' + gspp + ' -max_hsps 1 -query ' + rgs_fasta + ' -evalue 1e-3\\n'\n",
        "    output_command.write( output )\n",
        "    \n",
        "output = 'echo\\n'\n",
        "output_command.write( output )\n",
        "\n",
        "input_list.close()\n",
        "input_rgs.close()\n",
        "output_command.close()\n"
      ]
    },
    {
      "cell_type": "code",
      "execution_count": null,
      "id": "0f9465ce",
      "metadata": {
        "id": "0f9465ce"
      },
      "outputs": [],
      "source": [
        "%%bash\n",
        "#003-blastp_X_projectDB\n",
        "source $HOME/miniconda3/bin/activate\n",
        "bash 003-blastp_X_projectDB\n"
      ]
    },
    {
      "cell_type": "code",
      "source": [
        "%%bash\n",
        "#004-ls-reports-and-fastas\n",
        "\n",
        "ls output/3-blast-report-rgs_X_projectdb-* > output/4-list-reports\n",
        "ls 4-projectdb-projectdb/projectdb-fastas-provided/*aa > output/4-list-fastas\n"
      ],
      "metadata": {
        "id": "57ThZxoXSLLj"
      },
      "id": "57ThZxoXSLLj",
      "execution_count": null,
      "outputs": []
    },
    {
      "cell_type": "code",
      "execution_count": null,
      "id": "ea606dd9",
      "metadata": {
        "id": "ea606dd9"
      },
      "outputs": [],
      "source": [
        "#005-python-gene-set-fasta\n",
        "\n",
        "# rgs73-worm-TRPA_Cele_TRPA-TRPA2_1_481-uniprotQ21517-extraction_51_366   Metazoa-Chordata-Coelacanthimorpha-Coelacanthiformes-Coelacanthidae-Latimeria-chalumnae-pdb0000292542   26.036  169     98      4       140     299     846     996     3.39e-05        44.4\n",
        "\n",
        "input_fastas = open( 'output/4-list-fastas', 'r' )\n",
        "input_reports = open( 'output/4-list-reports', 'r' )\n",
        "output_geneset_gspp = open( 'output/5-blastp-hits.fasta', 'w')\n",
        "output_geneset_gspp_sub = open( 'output/5-blastp-pore-region-hits.fasta', 'w')\n",
        "\n",
        "gene_seq = {}\n",
        "gene_coordinates = {}\n",
        "for next_fasta in input_fastas:\n",
        "    \n",
        "    fasta = next_fasta[ :-1 ]\n",
        "    input_fasta = open( fasta, 'r' )\n",
        "    \n",
        "    for next_line in input_fasta:\n",
        "\n",
        "        if next_line[ 0 ] == '>':\n",
        "            \n",
        "            header = next_line[ 1:-1 ]\n",
        "            gene_seq[ header ] = ''\n",
        "\n",
        "        else:\n",
        "\n",
        "            sequence = next_line[ :-1 ]\n",
        "            gene_seq[ header ] = gene_seq[ header ] + sequence\n",
        "\n",
        "    input_fasta.close()\n",
        "\n",
        "for next_report in input_reports:\n",
        "\n",
        "    all_hits = []\n",
        "    report = next_report[ :-1 ]\n",
        "    input_report = open( report, 'r' )\n",
        " \n",
        "    for next_line in input_report:\n",
        "\n",
        "        report_info = next_line.split( '\\t' )\n",
        "        gene_id = report_info[ 1 ]\n",
        "        all_hits.append( gene_id )\n",
        "        coordinate_1 = int( report_info[ 8 ] ) - 1\n",
        "        coordinate_2 = int( report_info[ 9 ] ) - 1\n",
        "        gene_coordinates[ gene_id ] = ( coordinate_1, coordinate_2 )\n",
        "        \n",
        "    unique_hits = list( set( all_hits ) )\n",
        "\n",
        "    for next_hit in unique_hits:\n",
        "        \n",
        "        gene_id = next_hit\n",
        "        sequence = gene_seq[ gene_id ]\n",
        "        coordinate_1 = gene_coordinates[ gene_id ][ 0 ]\n",
        "        coordinate_2 = gene_coordinates[ gene_id ][ 1 ]\n",
        "        subsequence = sequence[ coordinate_1 : coordinate_2 ] \n",
        "\n",
        "        output = '>' + gene_id + '\\n' + sequence + '\\n'\n",
        "        output_geneset_gspp.write( output )\n",
        "        \n",
        "        output_sub = '>' + gene_id + '\\n' + subsequence + '\\n'\n",
        "        output_geneset_gspp_sub.write( output_sub )\n",
        "\n",
        "    input_report.close()\n",
        "\n",
        "input_fastas.close()\n",
        "input_reports.close()\n",
        "output_geneset_gspp.close()\n",
        "output_geneset_gspp_sub.close()\n"
      ]
    },
    {
      "cell_type": "code",
      "execution_count": null,
      "id": "8216c566",
      "metadata": {
        "id": "8216c566"
      },
      "outputs": [],
      "source": [
        "%%bash\n",
        "#006-blastp-rgs_X_rgs-genomes\n",
        "source $HOME/miniconda3/bin/activate\n",
        "\n",
        "blastp -db 4-projectdb-projectdb/projectdb-fastas-provided/projectdb-Metazoa-Chordata-Mammalia-Primates-Hominidae-Homo-sapiens*aa -query source-rgs/rgs5-piezo-full_length-03dec2021.fasta -out output/6-blast-report-rgs5-piezo-family_X_human-genome -outfmt 6  -max_hsps 1\n",
        "\n",
        "blastp -db 4-projectdb-projectdb/projectdb-fastas-provided/projectdb-Metazoa-Arthropoda-Insecta-Diptera-Drosophilidae-Drosophila-melanogaster*aa -query source-rgs/rgs5-piezo-full_length-03dec2021.fasta -out output/6-blast-report-rgs5-piezo-family_X_fly-genome -outfmt 6  -max_hsps 1\n",
        "\n",
        "blastp -db 4-projectdb-projectdb/projectdb-fastas-provided/projectdb-Metazoa-Nematoda-Chromadorea-Rhabditida-Rhabditidae-Caenorhabditis-elegans*aa -query source-rgs/rgs5-piezo-full_length-03dec2021.fasta -out output/6-blast-report-rgs5-piezo-family_X_worm-genome -outfmt 6  -max_hsps 1\n"
      ]
    },
    {
      "cell_type": "code",
      "execution_count": null,
      "id": "c9cbad90",
      "metadata": {
        "id": "c9cbad90"
      },
      "outputs": [],
      "source": [
        "%%bash\n",
        "#007-ls-rgs-reports-fastas\n",
        "\n",
        "ls output/6*genome* > output/7-list-reports\n",
        "\n",
        "ls 4-projectdb-projectdb/projectdb-fastas-provided/*Homo-sapiens*aa > output/7-list-rgs-projectdb-fastas\n",
        "ls 4-projectdb-projectdb/projectdb-fastas-provided/*Drosophila-melanogaster*aa >> output/7-list-rgs-projectdb-fastas\n",
        "ls 4-projectdb-projectdb/projectdb-fastas-provided/*Caenorhabditis-elegans*aa >> output/7-list-rgs-projectdb-fastas\n"
      ]
    },
    {
      "cell_type": "code",
      "execution_count": null,
      "id": "9dcc57bc",
      "metadata": {
        "id": "9dcc57bc"
      },
      "outputs": [],
      "source": [
        "#008-python-update-reference-genomes\n",
        "\n",
        "\n",
        "##### USER INPUT\n",
        "input_reports = open( 'output/7-list-reports', 'r' )\n",
        "input_fastas = open( 'output/7-list-rgs-projectdb-fastas', 'r' )\n",
        "input_rgsfasta = open( 'source-rgs/rgs5-piezo-full_length-03dec2021.fasta', 'r' )\n",
        "output_map = open( 'output/8-map-source-to-reference-identifiers', 'a' )\n",
        "\n",
        "model_species = [ 'human','mouse','fly','worm','anemone' ]\n",
        "\n",
        "###### BEING SCRIPT \n",
        "# read in reference gene header identifier and sequence into dictionary\n",
        "rgs_seq = {}\n",
        "for next_line in input_rgsfasta:\n",
        "\n",
        "    if next_line[ 0 ] == '>':\n",
        "\n",
        "        identifier = next_line[ 1:-1 ].split( ' ' )[ 0 ]\n",
        "        rgs_seq[ identifier ] = ''\n",
        "\n",
        "    else:\n",
        "\n",
        "        rgs_seq[ identifier ] = rgs_seq[ identifier ] + next_line[ :-1 ]\n",
        "\n",
        "# read rgs query and rgs genome top hit into dictionary\n",
        "gengene_refgene = {}\n",
        "rgs_genes = []\n",
        "gengenes = []\n",
        "\n",
        "for next_report in input_reports:\n",
        "    \n",
        "    input_report = open( next_report[ :-1 ], 'r' )\n",
        "    \n",
        "    model_name = \"\"\n",
        "    for model in model_species:\n",
        "        if model in next_report:\n",
        "            model_name = model\n",
        "            break\n",
        "\n",
        "    for next_hit in input_report:\n",
        "\n",
        "        info = next_hit.split( '\\t' )\n",
        "        refgene = info[ 0 ]\n",
        "        gengene = info[ 1 ]\n",
        "        name = refgene.split( '-' )[ 1 ]\n",
        "        \n",
        "        if name == model_name:\n",
        "\n",
        "            if (refgene in rgs_genes) or (gengene in gengenes):\n",
        "\n",
        "                pass\n",
        "\n",
        "            else:\n",
        "\n",
        "                gengene_refgene[ gengene ] = refgene\n",
        "                rgs_genes.append( refgene )\n",
        "                gengenes.append( gengene )\n",
        "\n",
        "        else:\n",
        "\n",
        "            pass\n",
        "            \n",
        "    input_report.close()\n",
        "\n",
        "\n",
        "# read in RGS genome and replace rgs genes (top hit in blast of rgs _X_ rgs genome) with rgs header and sequence\n",
        "header_seq = {}\n",
        "for next_fasta in input_fastas:\n",
        "\n",
        "    input_fasta = open( next_fasta[ :-1 ], 'r' )\n",
        "    output_name = 'output/8-' + next_fasta[ :-1 ].split( '/' )[ -1 ] + '-rgs'\n",
        "    output_fasta = open( output_name, 'w' )\n",
        "\n",
        "    for next_line in input_fasta:\n",
        "\n",
        "        if next_line[ 0 ] == '>':\n",
        "\n",
        "            count = 0\n",
        "            \n",
        "            header_info = next_line[ 1:-1 ]\n",
        "\n",
        "            if header_info in gengene_refgene.keys():\n",
        "                \n",
        "                count = 1\n",
        "                gengene = header_info\n",
        "                refgene = gengene_refgene[ gengene ]\n",
        "                \n",
        "                header = '>' + refgene + '\\n'\n",
        "                output_fasta.write( header )\n",
        "\n",
        "                \n",
        "                output = gengene + '\\t' + refgene + '\\n'\n",
        "                output_map.write( output )                \n",
        "                \n",
        "            else:\n",
        "\n",
        "                header = next_line\n",
        "                output_fasta.write( header )\n",
        "                \n",
        "        else:\n",
        "\n",
        "            if count == 0:\n",
        "\n",
        "                sequence = next_line\n",
        "                output_fasta.write( sequence )\n",
        "\n",
        "            else:\n",
        "\n",
        "                sequence = rgs_seq[ refgene ] + '\\n'\n",
        "                output_fasta.write( sequence )\n",
        "\n",
        "    input_fasta.close()\n",
        "    output_fasta.close()\n",
        "\n",
        "input_reports.close()\n",
        "input_fastas.close()\n",
        "input_rgsfasta.close()\n",
        "output_map.close()\n"
      ]
    },
    {
      "cell_type": "code",
      "execution_count": null,
      "id": "3f096158",
      "metadata": {
        "id": "3f096158"
      },
      "outputs": [],
      "source": [
        "%%bash\n",
        "#009-ls-reference-genome-fastas\n",
        "\n",
        "cat output/8*rgs > output/9-rgs-all-genomes-combined.fasta-rgs\n",
        "ls -1 output/9*rgs > output/9-list-RGS-header-reference-genome-fastas\n",
        "\n"
      ]
    },
    {
      "cell_type": "code",
      "execution_count": null,
      "id": "f74206a6",
      "metadata": {
        "id": "f74206a6"
      },
      "outputs": [],
      "source": [
        "#010-python-command-makeblastdb\n",
        "\n",
        "input_list = open( 'output/9-list-RGS-header-reference-genome-fastas', 'r' )\n",
        "output_makedb = open( '011-blastp-makedb', 'w' )\n",
        "\n",
        "for next_fasta in input_list:\n",
        "\n",
        "    fasta_path = next_fasta[ :-1 ]\n",
        "    fasta = fasta_path.split( '/' )[ -1 ]\n",
        "    \n",
        "    db_name = fasta.split( '.' )[ 0 ] + '-AA'\n",
        "    \n",
        "    command = 'makeblastdb -in '  + fasta_path + ' -parse_seqids -dbtype prot'\n",
        "    output = command + '\\n'\n",
        "    output_makedb.write( output )\n",
        "\n",
        "input_list.close()\n",
        "output_makedb.close()\n"
      ]
    },
    {
      "cell_type": "code",
      "execution_count": null,
      "id": "fc2a56a9",
      "metadata": {
        "id": "fc2a56a9"
      },
      "outputs": [],
      "source": [
        "%%bash\n",
        "#011-blastp-makedb\n",
        "source $HOME/miniconda3/bin/activate\n",
        "\n",
        "bash 011-blastp-makedb"
      ]
    },
    {
      "cell_type": "code",
      "execution_count": null,
      "id": "2780794f",
      "metadata": {
        "id": "2780794f"
      },
      "outputs": [],
      "source": [
        "%%bash\n",
        "#012-ls-blastp-rgs-genomes\n",
        "\n",
        "ls -1 output/9-rgs-all-genomes-combined.fasta-rgs > output/12-list-blastp-annotated-rgs-genomes\n"
      ]
    },
    {
      "cell_type": "code",
      "source": [
        "#013-python-command-blastp\n",
        "\n",
        "# input_list\n",
        "# 11-projectdb-Homo-sapiens-cgs-AA.dmnd\n",
        "\n",
        "input_list = open( 'output/12-list-blastp-annotated-rgs-genomes', 'r' )\n",
        "output_command = open( '014-blastp-hits_X_RGS-genomes', 'w' )\n",
        "\n",
        "output = '#! /bin/bash\\n'\n",
        "output_command.write( output )\n",
        "\n",
        "for next_line in input_list:\n",
        "\n",
        "    db_path = next_line[ :-1 ]\n",
        "    info = db_path.split( '-' )\n",
        "    genome = info[ -3 ] + '-' + info[ -2 ]\n",
        "\n",
        "    output =  'blastp -db ' + db_path  + ' -outfmt 6 -out output/14-blastp-report-blastp_hits_X_RGS-genome-' + genome + '  -max_target_seqs 1 -max_hsps 1 -query output/5-blastp-pore-region-hits.fasta -matrix BLOSUM45 -evalue 1e-3 -num_threads 60 &\\n'\n",
        " \n",
        "    output_command.write( output )\n",
        "\n",
        "input_list.close()\n",
        "output_command.close()\n"
      ],
      "metadata": {
        "id": "5QgaKQZeSpAr"
      },
      "id": "5QgaKQZeSpAr",
      "execution_count": null,
      "outputs": []
    },
    {
      "cell_type": "code",
      "source": [
        "%%bash\n",
        "#014-blastp-hits_X_RGS-genomes\n",
        "source $HOME/miniconda3/bin/activate\n",
        "\n",
        "bash 014-blastp-hits_X_RGS-genomes"
      ],
      "metadata": {
        "id": "rvHCfCZZSqZl"
      },
      "id": "rvHCfCZZSqZl",
      "execution_count": null,
      "outputs": []
    },
    {
      "cell_type": "code",
      "execution_count": null,
      "id": "ce056c15",
      "metadata": {
        "id": "ce056c15"
      },
      "outputs": [],
      "source": [
        "%%bash\n",
        "#015-cat-all-blastp-reports\n",
        "\n",
        "cat output/14-* > output/15-all-blastp-all-reports\n"
      ]
    },
    {
      "cell_type": "code",
      "execution_count": null,
      "id": "820152e6",
      "metadata": {
        "id": "820152e6"
      },
      "outputs": [],
      "source": [
        "#016-python-RBF-CGS-each-RGS-genome-fasta\n",
        "\n",
        "\n",
        "##### USER INPUT\n",
        "\n",
        "input_fastas = open( 'output/4-list-fastas', 'r' )\n",
        "input_hits = open( 'output/15-all-blastp-all-reports', 'r' )\n",
        "input_rgs_ids = open( 'output/8-map-source-to-reference-identifiers', 'r' )\n",
        "\n",
        "output_fasta = open( 'output/16-CGS-final-sequences-by-blastp-RBF.fasta', 'w' )\n",
        "output_filtered = open( 'output/16-dropped-queries-no-rgs-top-hit-in-rgs-genome', 'w' )\n",
        "\n",
        "model_species = [ 'human','mouse','fly','worm','anemone' ]\n",
        "\n",
        "##### BEGIN SCRIPT\n",
        "\n",
        "rgs_ids = []\n",
        "\n",
        "for next_line in input_rgs_ids:\n",
        "\n",
        "        info = next_line[ :-1 ].split( '\\t' )\n",
        "        projectdb_id = info[ 0 ]\n",
        "        rgs_id = info[ 1 ]\n",
        "        rgs_ids.append( rgs_id )\n",
        "        rgs_ids.append( projectdb_id )\n",
        "\n",
        "keepers = []\n",
        "queries = []\n",
        "\n",
        "for next_hit in input_hits:\n",
        "\n",
        "        info = next_hit.split( '\\t' )\n",
        "        query = info[ 0 ]\n",
        "        queries.append( query )\n",
        "        \n",
        "        hit = info[ 1 ]        \n",
        "        hit_info = hit.split( '-' )\n",
        "        name = hit_info[ 1 ]\n",
        "\n",
        "        if name in model_species:\n",
        "                \n",
        "                # drop RGS genes\n",
        "                if query in rgs_ids:\n",
        "\n",
        "                        pass\n",
        "\n",
        "                else:\n",
        "                        keepers.append( query )\n",
        "\n",
        "        else:\n",
        "                output = query + '\\t' + hit + '\\n'\n",
        "                output_filtered.write( output )\n",
        "\n",
        "# produce post-filtered keepers diamond fasta NO RGS\n",
        "count = 0\n",
        "\n",
        "for next_fasta in input_fastas:\n",
        "\n",
        "        input_fasta = open( next_fasta[ :-1 ], 'r' )\n",
        "\n",
        "        for next_line in input_fasta:\n",
        "                \n",
        "                if next_line[ 0 ] == '>':\n",
        "                        count = 0\n",
        "                        identifier = next_line[ 1:-1 ]\n",
        "\n",
        "                        if identifier in keepers:\n",
        "                                count = 1\n",
        "                                header = '>' + identifier + '\\n'\n",
        "                                output_fasta.write( header )\n",
        "                                \n",
        "                        else:\n",
        "                                pass\n",
        "\n",
        "                else:\n",
        "\n",
        "                        if count == 0:\n",
        "                                pass\n",
        "\n",
        "                        else:\n",
        "\n",
        "                                sequence = next_line\n",
        "                                output_fasta.write( sequence )\n",
        "                                \n",
        "        input_fasta.close()\n",
        "            \n",
        "input_hits.close()\n",
        "input_fastas.close()\n",
        "output_fasta.close()\n",
        "input_rgs_ids.close()\n"
      ]
    },
    {
      "cell_type": "code",
      "execution_count": null,
      "id": "9b672d9f",
      "metadata": {
        "id": "9b672d9f"
      },
      "outputs": [],
      "source": [
        "%%bash\n",
        "#017-cat-RGS-CGS-fasta\n",
        "\n",
        "cat source-rgs/rgs5-piezo-full_length-03dec2021.fasta output/16-CGS-final-sequences-by-blastp-RBF.fasta > output/17-AGS_blastp-rgs5-piezo_X_metazoa16_basal_animals_UPDATED.aa\n"
      ]
    },
    {
      "cell_type": "code",
      "execution_count": null,
      "id": "5a3fce1d",
      "metadata": {
        "id": "5a3fce1d"
      },
      "outputs": [],
      "source": [
        "%%bash\n",
        "#018-sed-dashes-for-mafft-PACBIO\n",
        "\n",
        "# clean sequences for other applications\n",
        "sed -e 's/-/_/g' output/17-AGS_blastp-rgs5-piezo_X_metazoa16_basal_animals_UPDATED.aa > output/18-AGS-rgs5-piezo_X_metazoa16_basal_animals_UPDATED.aa \n",
        "sed -i 's/U/X/g' output/18-AGS-rgs5-piezo_X_metazoa16_basal_animals_UPDATED.aa\n",
        "\n"
      ]
    },
    {
      "cell_type": "code",
      "execution_count": null,
      "id": "30f25f0d",
      "metadata": {
        "id": "30f25f0d"
      },
      "outputs": [],
      "source": [
        "%%bash\n",
        "#019-mafft-pore-sequence-PACBIO\n",
        "source $HOME/miniconda3/bin/activate\n",
        "\n",
        "mafft --originalseqonly --maxiterate 1000 --reorder  --bl 45 --thread 40 output/18-AGS-rgs5-piezo_X_metazoa16_basal_animals_UPDATED.aa > output/19-AGS-rgs5-piezo_X_metazoa16_basal_animals_UPDATED.mafft\n"
      ]
    },
    {
      "cell_type": "code",
      "execution_count": null,
      "id": "86da8b10",
      "metadata": {
        "id": "86da8b10"
      },
      "outputs": [],
      "source": [
        "%%bash\n",
        "#020-clipkit-smartgap-pore-sequence_PACBIO\n",
        "source $HOME/miniconda3/bin/activate\n",
        "\n",
        "clipkit -l -m smart-gap output/19-AGS-rgs5-piezo_X_metazoa16_basal_animals_UPDATED.mafft -o output/20-AGS-rgs5-piezo_X_metazoa16_basal_animals_UPDATED.clipkit-smartgap\n"
      ]
    },
    {
      "cell_type": "code",
      "execution_count": null,
      "id": "3a1a17b1",
      "metadata": {
        "id": "3a1a17b1"
      },
      "outputs": [],
      "source": [
        "%%bash\n",
        "#021-iqtree2-PACBIO\n",
        "source $HOME/miniconda3/bin/activate\n",
        "\n",
        "iqtree -s output/20-AGS-rgs5-piezo_X_metazoa16_basal_animals_UPDATED.clipkit-smartgap -m MFP --prefix output/21-AGS-rgs5-piezo_X_metazoa16_basal_animals_UPDATED --rate -B 2000 -alrt 2000 -T AUTO -bnni -safe\n"
      ]
    },
    {
      "cell_type": "code",
      "execution_count": null,
      "id": "181617ae",
      "metadata": {
        "id": "181617ae"
      },
      "outputs": [],
      "source": [
        "#022-USER_INPUT-broken-and-replacement-sequences\n",
        "\n",
        "# #repair_1\n",
        "# Metazoa-Ctenophora-Tentaculata-Lobata-Bolinopsidae-Mnemiopsis-leidyi_PACBIO-Mnemiopsis-leidyi-NonamEVm000133t1\n",
        "# Metazoa-Ctenophora-Tentaculata-Lobata-Bolinopsidae-Mnemiopsis-leidyi_UPDATED-ML018021a-PA\n",
        "# Metazoa-Ctenophora-Tentaculata-Lobata-Bolinopsidae-Mnemiopsis-leidyi_UPDATED-ML018022a-PA\n",
        "# Metazoa-Ctenophora-Tentaculata-Lobata-Bolinopsidae-Mnemiopsis-leidyi_UPDATED-ML018025a-PA\n",
        "# Metazoa-Ctenophora-Tentaculata-Lobata-Bolinopsidae-Mnemiopsis-leidyi_UPDATED-ML018027a-PA"
      ]
    },
    {
      "cell_type": "code",
      "execution_count": null,
      "id": "a6964d1c",
      "metadata": {
        "id": "a6964d1c"
      },
      "outputs": [],
      "source": [
        "#023-python-repair-broken-gene-models-with-pacbio\n",
        "\n",
        "input_repair_ids = open( '022-USER_INPUT-broken-and-replacement-sequences', 'r' )\n",
        "input_ags_broken = open( 'output/17-AGS_blastp-rgs5-piezo_X_metazoa16_basal_animals_UPDATED.aa', 'r' )\n",
        "output_ags = open( 'output/23-AGS_blastp-rgs5-piezo_X_metazoa16_basal_animals_REPAIRED.aa', 'w' )\n",
        "output_dropped = open( 'output/23-dropped-sequences.fasta', 'w' )\n",
        "\n",
        "pacbio_ids = []\n",
        "broken_ids = []\n",
        "count = 0\n",
        "for next_line in input_repair_ids:\n",
        "\n",
        "    if next_line[ 0 ] == '#':\n",
        "        count = 1\n",
        "\n",
        "    elif count == 1:\n",
        "        pacbio_id = next_line[ :-1 ]\n",
        "        pacbio_ids.append( pacbio_id )\n",
        "        count = 0\n",
        "        \n",
        "    else:\n",
        "        broken_id = next_line[ :-1 ]\n",
        "        broken_ids.append( broken_id )\n",
        "\n",
        "ags_initial_seq = {}\n",
        "for next_line in input_ags_broken:\n",
        "\n",
        "    if next_line[ 0 ] == '>':\n",
        "\n",
        "        gene_id = next_line[ 1:-1 ]\n",
        "        ags_initial_seq[ gene_id ] = ''\n",
        "\n",
        "    else:\n",
        "\n",
        "        sequence = next_line[ :-1 ]\n",
        "        ags_initial_seq[ gene_id ] = ags_initial_seq[ gene_id ] + sequence\n",
        "\n",
        "for next_id in ags_initial_seq.keys():\n",
        "\n",
        "    sequence = ags_initial_seq[ next_id ]\n",
        "\n",
        "    if next_id in broken_ids:\n",
        "        output = '>' + next_id + '\\n' + sequence + '\\n'\n",
        "        output_dropped.write( output )\n",
        "\n",
        "    elif next_id in pacbio_ids:\n",
        "        output = '>' + next_id + '\\n' + sequence + '\\n'\n",
        "        output_ags.write( output )\n",
        "\n",
        "    elif len( next_id.split( 'Mnemiopsis' ) ) > 1:\n",
        "\n",
        "        if len( next_id.split( 'UPDATED' ) ) > 1:\n",
        "            output = '>' + next_id + '\\n' + sequence + '\\n'\n",
        "            output_ags.write( output )\n",
        "            \n",
        "        else:\n",
        "            output = '>' + next_id + '\\n' + sequence + '\\n'\n",
        "            output_dropped.write( output )\n",
        "\n",
        "    else:\n",
        "        output = '>' + next_id + '\\n' + sequence + '\\n'\n",
        "        output_ags.write( output )\n",
        "\n",
        "input_repair_ids.close()\n",
        "input_ags_broken.close()\n",
        "output_ags.close()\n",
        "output_dropped.close()\n"
      ]
    }
  ],
  "metadata": {
    "kernelspec": {
      "display_name": "Python 3 (ipykernel)",
      "language": "python",
      "name": "python3"
    },
    "language_info": {
      "codemirror_mode": {
        "name": "ipython",
        "version": 3
      },
      "file_extension": ".py",
      "mimetype": "text/x-python",
      "name": "python",
      "nbconvert_exporter": "python",
      "pygments_lexer": "ipython3",
      "version": "3.8.3"
    },
    "colab": {
      "name": "6_homologs_genes.ipynb",
      "provenance": [],
      "toc_visible": true
    }
  },
  "nbformat": 4,
  "nbformat_minor": 5
}